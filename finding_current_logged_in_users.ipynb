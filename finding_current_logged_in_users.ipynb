{
  "nbformat": 4,
  "nbformat_minor": 0,
  "metadata": {
    "kernelspec": {
      "display_name": "Python 3",
      "language": "python",
      "name": "python3"
    },
    "language_info": {
      "codemirror_mode": {
        "name": "ipython",
        "version": 3
      },
      "file_extension": ".py",
      "mimetype": "text/x-python",
      "name": "python",
      "nbconvert_exporter": "python",
      "pygments_lexer": "ipython3",
      "version": "3.6.7"
    },
    "colab": {
      "name": "finding current logged in users.ipynb",
      "provenance": [],
      "collapsed_sections": []
    }
  },
  "cells": [
    {
      "cell_type": "markdown",
      "metadata": {
        "id": "Vmu0Yso7nWEB",
        "colab_type": "text"
      },
      "source": [
        "Hello, coders! Below we have code similar to finding out the current users logged in our system.  Go ahead and run the following cell that defines our `get_event_date`, `current_users` and `generate_report` methods."
      ]
    },
    {
      "cell_type": "code",
      "metadata": {
        "id": "ntcVVqrunWEC",
        "colab_type": "code",
        "colab": {}
      },
      "source": [
        "def get_event_date(event):\n",
        "  return event.date\n",
        "\n",
        "def current_users(events):\n",
        "  events.sort(key=get_event_date)\n",
        "  machines = {}\n",
        "  for event in events:\n",
        "    if event.machine not in machines:\n",
        "      machines[event.machine] = set()\n",
        "    if event.type == \"login\":\n",
        "      machines[event.machine].add(event.user)\n",
        "    elif event.type == \"logout\":\n",
        "      try:\n",
        "       machines[event.machine].remove(event.user)\n",
        "      except:\n",
        "        print(\"{} has not logged in\".format(event.user)) \n",
        "  return machines\n",
        "\n",
        "def generate_report(machines):\n",
        "  for machine, users in machines.items():\n",
        "    if len(users) > 0:\n",
        "      user_list = \", \".join(users)\n",
        "      print(\"{}: {}\".format(machine, user_list))"
      ],
      "execution_count": 21,
      "outputs": []
    },
    {
      "cell_type": "markdown",
      "metadata": {
        "id": "dNFDY2ksnWEH",
        "colab_type": "text"
      },
      "source": [
        "No output should be generated from running the custom function definitions above.  To check that our code is doing everything it's supposed to do, we need an `Event` class.  The code in the next cell below initializes our `Event` class.  Go ahead and run this cell next."
      ]
    },
    {
      "cell_type": "code",
      "metadata": {
        "id": "_WlYUgBOnWEH",
        "colab_type": "code",
        "colab": {}
      },
      "source": [
        "class Event:\n",
        "  def __init__(self, event_date, event_type, machine_name, user):\n",
        "    self.date = event_date\n",
        "    self.type = event_type\n",
        "    self.machine = machine_name\n",
        "    self.user = user"
      ],
      "execution_count": 22,
      "outputs": []
    },
    {
      "cell_type": "markdown",
      "metadata": {
        "id": "q3swcyTXnWEL",
        "colab_type": "text"
      },
      "source": [
        "Ok, we have an `Event` class that has a constructor and sets the necessary attributes.  Next let's create some events and add them to a list by running the following cell."
      ]
    },
    {
      "cell_type": "code",
      "metadata": {
        "id": "oqAFdit3nWEM",
        "colab_type": "code",
        "colab": {}
      },
      "source": [
        "events = [\n",
        "    Event('2020-01-21 12:45:56', 'login', 'myworkstation.local', 'jordan'),\n",
        "    Event('2020-01-22 15:53:42', 'logout', 'webserver.local', 'jordan'),\n",
        "    Event('2020-01-21 18:53:21', 'login', 'webserver.local', 'lane'),\n",
        "    Event('2020-01-22 10:25:34', 'logout', 'myworkstation.local', 'jordan'),\n",
        "    Event('2020-01-21 08:20:01', 'login', 'webserver.local', 'jordan'),\n",
        "    Event('2020-01-23 11:24:35', 'logout', 'mailserver.local', 'chris'),\n",
        "]"
      ],
      "execution_count": 23,
      "outputs": []
    },
    {
      "cell_type": "code",
      "metadata": {
        "id": "P0m3v4OfnWEQ",
        "colab_type": "code",
        "colab": {
          "base_uri": "https://localhost:8080/",
          "height": 52
        },
        "outputId": "6003fb05-8f24-4e82-8dab-2a5ee9f38ac4"
      },
      "source": [
        "users = current_users(events)\n",
        "print(users)"
      ],
      "execution_count": 24,
      "outputs": [
        {
          "output_type": "stream",
          "text": [
            "chris has not logged in\n",
            "{'webserver.local': {'lane'}, 'myworkstation.local': set(), 'mailserver.local': set()}\n"
          ],
          "name": "stdout"
        }
      ]
    },
    {
      "cell_type": "markdown",
      "metadata": {
        "id": "1rGWijFenWEU",
        "colab_type": "text"
      },
      "source": [
        "Now try generating the report by running the next cell."
      ]
    },
    {
      "cell_type": "code",
      "metadata": {
        "id": "KUkBBb5pnWEV",
        "colab_type": "code",
        "colab": {
          "base_uri": "https://localhost:8080/",
          "height": 35
        },
        "outputId": "22df98b4-1698-4892-ee35-045039031308"
      },
      "source": [
        "generate_report(users)"
      ],
      "execution_count": 25,
      "outputs": [
        {
          "output_type": "stream",
          "text": [
            "webserver.local: lane\n"
          ],
          "name": "stdout"
        }
      ]
    }
  ]
}